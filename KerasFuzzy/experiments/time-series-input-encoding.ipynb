{
 "cells": [
  {
   "cell_type": "code",
   "execution_count": 11,
   "metadata": {},
   "outputs": [],
   "source": [
    "import sys\n",
    "sys.path.insert(0, 'D:/projects/KerasFuzzy/KerasFuzzy/layers')\n",
    "from defuzzy_layer_2 import DefuzzyLayer2\n",
    "from defuzzy_layer import DefuzzyLayer\n",
    "from fuzzy_layer_indep import FuzzyLayerIndep\n",
    "from sklearn.model_selection import train_test_split\n",
    "import pandas as pd\n",
    "import numpy as np\n",
    "import matplotlib.pyplot as plt\n",
    "import tensorflow as tf\n",
    "from tensorflow import keras\n",
    "from tensorflow.keras import layers\n",
    "from keras import backend as K \n",
    "import random\n",
    "from keras.callbacks import EarlyStopping\n",
    "from keras.callbacks import LearningRateScheduler\n",
    "import datetime"
   ]
  },
  {
   "cell_type": "code",
   "execution_count": 12,
   "metadata": {},
   "outputs": [
    {
     "data": {
      "text/html": [
       "<div>\n",
       "<style scoped>\n",
       "    .dataframe tbody tr th:only-of-type {\n",
       "        vertical-align: middle;\n",
       "    }\n",
       "\n",
       "    .dataframe tbody tr th {\n",
       "        vertical-align: top;\n",
       "    }\n",
       "\n",
       "    .dataframe thead th {\n",
       "        text-align: right;\n",
       "    }\n",
       "</style>\n",
       "<table border=\"1\" class=\"dataframe\">\n",
       "  <thead>\n",
       "    <tr style=\"text-align: right;\">\n",
       "      <th></th>\n",
       "      <th>date</th>\n",
       "      <th>HUFL</th>\n",
       "      <th>HULL</th>\n",
       "      <th>MUFL</th>\n",
       "      <th>MULL</th>\n",
       "      <th>LUFL</th>\n",
       "      <th>LULL</th>\n",
       "      <th>OT</th>\n",
       "      <th>OT_n</th>\n",
       "    </tr>\n",
       "  </thead>\n",
       "  <tbody>\n",
       "    <tr>\n",
       "      <th>0</th>\n",
       "      <td>2016-07-01 00:00:00</td>\n",
       "      <td>5.827</td>\n",
       "      <td>2.009</td>\n",
       "      <td>1.599</td>\n",
       "      <td>0.462</td>\n",
       "      <td>4.203</td>\n",
       "      <td>1.340</td>\n",
       "      <td>30.531000</td>\n",
       "      <td>0.691018</td>\n",
       "    </tr>\n",
       "    <tr>\n",
       "      <th>1</th>\n",
       "      <td>2016-07-01 01:00:00</td>\n",
       "      <td>5.693</td>\n",
       "      <td>2.076</td>\n",
       "      <td>1.492</td>\n",
       "      <td>0.426</td>\n",
       "      <td>4.142</td>\n",
       "      <td>1.371</td>\n",
       "      <td>27.787001</td>\n",
       "      <td>0.636233</td>\n",
       "    </tr>\n",
       "    <tr>\n",
       "      <th>2</th>\n",
       "      <td>2016-07-01 02:00:00</td>\n",
       "      <td>5.157</td>\n",
       "      <td>1.741</td>\n",
       "      <td>1.279</td>\n",
       "      <td>0.355</td>\n",
       "      <td>3.777</td>\n",
       "      <td>1.218</td>\n",
       "      <td>27.787001</td>\n",
       "      <td>0.636233</td>\n",
       "    </tr>\n",
       "    <tr>\n",
       "      <th>3</th>\n",
       "      <td>2016-07-01 03:00:00</td>\n",
       "      <td>5.090</td>\n",
       "      <td>1.942</td>\n",
       "      <td>1.279</td>\n",
       "      <td>0.391</td>\n",
       "      <td>3.807</td>\n",
       "      <td>1.279</td>\n",
       "      <td>25.044001</td>\n",
       "      <td>0.581468</td>\n",
       "    </tr>\n",
       "    <tr>\n",
       "      <th>4</th>\n",
       "      <td>2016-07-01 04:00:00</td>\n",
       "      <td>5.358</td>\n",
       "      <td>1.942</td>\n",
       "      <td>1.492</td>\n",
       "      <td>0.462</td>\n",
       "      <td>3.868</td>\n",
       "      <td>1.279</td>\n",
       "      <td>21.948000</td>\n",
       "      <td>0.519656</td>\n",
       "    </tr>\n",
       "  </tbody>\n",
       "</table>\n",
       "</div>"
      ],
      "text/plain": [
       "                  date   HUFL   HULL   MUFL   MULL   LUFL   LULL         OT  \\\n",
       "0  2016-07-01 00:00:00  5.827  2.009  1.599  0.462  4.203  1.340  30.531000   \n",
       "1  2016-07-01 01:00:00  5.693  2.076  1.492  0.426  4.142  1.371  27.787001   \n",
       "2  2016-07-01 02:00:00  5.157  1.741  1.279  0.355  3.777  1.218  27.787001   \n",
       "3  2016-07-01 03:00:00  5.090  1.942  1.279  0.391  3.807  1.279  25.044001   \n",
       "4  2016-07-01 04:00:00  5.358  1.942  1.492  0.462  3.868  1.279  21.948000   \n",
       "\n",
       "       OT_n  \n",
       "0  0.691018  \n",
       "1  0.636233  \n",
       "2  0.636233  \n",
       "3  0.581468  \n",
       "4  0.519656  "
      ]
     },
     "execution_count": 12,
     "metadata": {},
     "output_type": "execute_result"
    }
   ],
   "source": [
    "dataset_etth1 = pd.read_csv(\"./datasets/ETTh1.csv\")\n",
    "\n",
    "column = 'OT'\n",
    "dataset_etth1[column+'_n'] = (dataset_etth1[column] - dataset_etth1[column].min()) / (dataset_etth1[column].max() - dataset_etth1[column].min()) \n",
    "\n",
    "dataset_etth1.head()"
   ]
  },
  {
   "cell_type": "code",
   "execution_count": 13,
   "metadata": {},
   "outputs": [],
   "source": [
    "lookback_window = 96\n",
    "forecasting_horizon = 96\n",
    "input_cols = ['OT']\n",
    "X = []\n",
    "Y = []\n",
    "\n",
    "for i in range(lookback_window, dataset_etth1.shape[0]- 10 * forecasting_horizon):\n",
    "    X.append(dataset_etth1[input_cols].iloc[i-lookback_window:i].transpose().to_numpy()[0])\n",
    "    Y.append(dataset_etth1[input_cols].iloc[i+1:i+forecasting_horizon+1].transpose().to_numpy()[0])\n",
    "\n",
    "X_train = np.array(X)\n",
    "Y_train = np.array(Y)\n",
    "\n",
    "X = []\n",
    "Y = []\n",
    "\n",
    "for i in range(dataset_etth1.shape[0]- 10 * forecasting_horizon, dataset_etth1.shape[0]-forecasting_horizon-2):\n",
    "    X.append(dataset_etth1[input_cols].iloc[i-lookback_window:i].transpose().to_numpy()[0])\n",
    "    Y.append(dataset_etth1[input_cols].iloc[i+1:i+forecasting_horizon+1].transpose().to_numpy()[0])\n",
    "\n",
    "X_val = np.array(X)\n",
    "Y_val = np.array(Y)\n"
   ]
  },
  {
   "cell_type": "code",
   "execution_count": 14,
   "metadata": {},
   "outputs": [
    {
     "name": "stdout",
     "output_type": "stream",
     "text": [
      "Model: \"ts_predictor\"\n",
      "_________________________________________________________________\n",
      " Layer (type)                Output Shape              Param #   \n",
      "=================================================================\n",
      " input_2 (InputLayer)        [(None, 96)]              0         \n",
      "                                                                 \n",
      " fuzzy_layer_indep_1 (FuzzyL  (None, 9600)             19200     \n",
      " ayerIndep)                                                      \n",
      "                                                                 \n",
      " dense_2 (Dense)             (None, 512)               4915712   \n",
      "                                                                 \n",
      " dropout_1 (Dropout)         (None, 512)               0         \n",
      "                                                                 \n",
      " dense_3 (Dense)             (None, 128)               65664     \n",
      "                                                                 \n",
      " defuzzy_layer2_1 (DefuzzyLa  (None, 96)               36864     \n",
      " yer2)                                                           \n",
      "                                                                 \n",
      "=================================================================\n",
      "Total params: 5,037,440\n",
      "Trainable params: 5,037,440\n",
      "Non-trainable params: 0\n",
      "_________________________________________________________________\n"
     ]
    }
   ],
   "source": [
    "model_inputs = keras.Input(shape=(lookback_window,))\n",
    "\n",
    "x = FuzzyLayerIndep(100, min_max=[np.min(X), np.max(X)])(model_inputs)\n",
    "x = layers.Dense(512)(x)\n",
    "x = layers.Dropout(0.1)(x)\n",
    "x = layers.Dense(128)(x)\n",
    "outputs = DefuzzyLayer2(forecasting_horizon)(x)\n",
    " \n",
    "model = keras.Model(model_inputs, outputs=outputs, name=\"ts_predictor\")\n",
    "model.summary()"
   ]
  },
  {
   "cell_type": "code",
   "execution_count": 15,
   "metadata": {},
   "outputs": [],
   "source": [
    "batch_size = 200\n",
    "epochs = 40\n",
    "log_dir = \"d:/projects/KerasFuzzy/logs/time_ser_\" + datetime.datetime.now().strftime(\"%Y%m%d-%H%M%S\")\n",
    "tensorboard_callback = tf.keras.callbacks.TensorBoard(log_dir=log_dir, histogram_freq=1)\n",
    "\n",
    "model.compile(optimizer = keras.optimizers.Adam(learning_rate=2e-3), \n",
    "    loss = \"mse\", metrics=[\"mae\", \"mse\"])\n"
   ]
  },
  {
   "cell_type": "code",
   "execution_count": 16,
   "metadata": {},
   "outputs": [
    {
     "name": "stdout",
     "output_type": "stream",
     "text": [
      "Epoch 1/40\n",
      "82/82 [==============================] - 12s 61ms/step - loss: 103.1160 - mae: 6.7765 - mse: 103.1160 - val_loss: 7.0426 - val_mae: 1.9996 - val_mse: 7.0426\n",
      "Epoch 2/40\n",
      "82/82 [==============================] - 4s 44ms/step - loss: 31.9311 - mae: 3.8576 - mse: 31.9311 - val_loss: 12.8987 - val_mae: 2.5777 - val_mse: 12.8987\n",
      "Epoch 3/40\n",
      "82/82 [==============================] - 3s 42ms/step - loss: 20.9461 - mae: 3.2615 - mse: 20.9461 - val_loss: 7.3622 - val_mae: 2.1609 - val_mse: 7.3622\n",
      "Epoch 4/40\n",
      "82/82 [==============================] - 4s 44ms/step - loss: 18.2060 - mae: 2.9754 - mse: 18.2060 - val_loss: 8.8146 - val_mae: 2.3109 - val_mse: 8.8146\n",
      "Epoch 5/40\n",
      "82/82 [==============================] - 4s 45ms/step - loss: 16.2386 - mae: 2.7701 - mse: 16.2386 - val_loss: 10.4845 - val_mae: 2.5570 - val_mse: 10.4845\n",
      "Epoch 6/40\n",
      "82/82 [==============================] - 4s 45ms/step - loss: 14.6349 - mae: 2.5985 - mse: 14.6349 - val_loss: 10.0059 - val_mae: 2.4501 - val_mse: 10.0059\n",
      "Epoch 7/40\n",
      "82/82 [==============================] - 4s 46ms/step - loss: 13.4209 - mae: 2.4606 - mse: 13.4209 - val_loss: 10.4527 - val_mae: 2.4565 - val_mse: 10.4527\n",
      "Epoch 8/40\n",
      "82/82 [==============================] - 4s 48ms/step - loss: 12.6149 - mae: 2.3663 - mse: 12.6149 - val_loss: 11.3028 - val_mae: 2.5991 - val_mse: 11.3028\n",
      "Epoch 9/40\n",
      "82/82 [==============================] - 4s 47ms/step - loss: 11.8500 - mae: 2.2906 - mse: 11.8500 - val_loss: 10.7565 - val_mae: 2.5448 - val_mse: 10.7565\n",
      "Epoch 10/40\n",
      "82/82 [==============================] - 4s 51ms/step - loss: 10.8281 - mae: 2.1950 - mse: 10.8281 - val_loss: 12.7990 - val_mae: 2.7688 - val_mse: 12.7990\n",
      "Epoch 11/40\n",
      "82/82 [==============================] - 4s 45ms/step - loss: 9.7666 - mae: 2.0861 - mse: 9.7666 - val_loss: 11.8974 - val_mae: 2.6610 - val_mse: 11.8974\n",
      "Epoch 12/40\n",
      "82/82 [==============================] - 4s 43ms/step - loss: 8.9124 - mae: 1.9955 - mse: 8.9124 - val_loss: 11.1083 - val_mae: 2.5715 - val_mse: 11.1083\n",
      "Epoch 13/40\n",
      "82/82 [==============================] - 4s 48ms/step - loss: 8.2630 - mae: 1.9305 - mse: 8.2630 - val_loss: 13.0130 - val_mae: 2.7764 - val_mse: 13.0130\n",
      "Epoch 14/40\n",
      "82/82 [==============================] - 4s 50ms/step - loss: 7.6175 - mae: 1.8480 - mse: 7.6175 - val_loss: 12.5384 - val_mae: 2.6956 - val_mse: 12.5384\n",
      "Epoch 15/40\n",
      "82/82 [==============================] - 4s 46ms/step - loss: 7.0597 - mae: 1.7795 - mse: 7.0597 - val_loss: 11.9216 - val_mae: 2.6220 - val_mse: 11.9216\n",
      "Epoch 16/40\n",
      "82/82 [==============================] - 4s 50ms/step - loss: 6.6053 - mae: 1.7262 - mse: 6.6053 - val_loss: 11.5311 - val_mae: 2.5877 - val_mse: 11.5311\n",
      "Epoch 17/40\n",
      "82/82 [==============================] - 4s 48ms/step - loss: 6.1713 - mae: 1.6700 - mse: 6.1713 - val_loss: 12.3759 - val_mae: 2.6585 - val_mse: 12.3759\n",
      "Epoch 18/40\n",
      "82/82 [==============================] - 4s 44ms/step - loss: 5.8361 - mae: 1.6254 - mse: 5.8361 - val_loss: 12.1096 - val_mae: 2.6187 - val_mse: 12.1096\n",
      "Epoch 19/40\n",
      "82/82 [==============================] - 4s 45ms/step - loss: 5.5415 - mae: 1.5868 - mse: 5.5415 - val_loss: 11.2481 - val_mae: 2.5515 - val_mse: 11.2481\n",
      "Epoch 20/40\n",
      "82/82 [==============================] - 4s 45ms/step - loss: 5.3116 - mae: 1.5562 - mse: 5.3116 - val_loss: 12.1342 - val_mae: 2.6407 - val_mse: 12.1342\n",
      "Epoch 21/40\n",
      "82/82 [==============================] - 4s 45ms/step - loss: 5.1486 - mae: 1.5348 - mse: 5.1486 - val_loss: 11.8528 - val_mae: 2.6299 - val_mse: 11.8528\n",
      "Epoch 22/40\n",
      "82/82 [==============================] - 4s 45ms/step - loss: 4.9795 - mae: 1.5125 - mse: 4.9795 - val_loss: 11.7520 - val_mae: 2.5959 - val_mse: 11.7520\n",
      "Epoch 23/40\n",
      "82/82 [==============================] - 4s 50ms/step - loss: 4.8405 - mae: 1.4929 - mse: 4.8405 - val_loss: 11.9928 - val_mae: 2.6339 - val_mse: 11.9928\n",
      "Epoch 24/40\n",
      "82/82 [==============================] - 4s 47ms/step - loss: 4.6274 - mae: 1.4504 - mse: 4.6274 - val_loss: 11.7241 - val_mae: 2.6046 - val_mse: 11.7241\n",
      "Epoch 25/40\n",
      "82/82 [==============================] - 4s 48ms/step - loss: 4.4935 - mae: 1.4254 - mse: 4.4935 - val_loss: 11.7249 - val_mae: 2.5849 - val_mse: 11.7249\n",
      "Epoch 26/40\n",
      "82/82 [==============================] - 4s 49ms/step - loss: 4.4817 - mae: 1.4268 - mse: 4.4817 - val_loss: 11.9140 - val_mae: 2.6268 - val_mse: 11.9140\n",
      "Epoch 27/40\n",
      "82/82 [==============================] - 4s 48ms/step - loss: 5.6839 - mae: 1.5925 - mse: 5.6839 - val_loss: 11.6743 - val_mae: 2.6328 - val_mse: 11.6743\n",
      "Epoch 28/40\n",
      "82/82 [==============================] - 4s 46ms/step - loss: 5.3810 - mae: 1.6426 - mse: 5.3810 - val_loss: 10.8742 - val_mae: 2.5332 - val_mse: 10.8742\n",
      "Epoch 29/40\n",
      "82/82 [==============================] - 4s 48ms/step - loss: 4.8043 - mae: 1.5230 - mse: 4.8043 - val_loss: 10.5463 - val_mae: 2.4970 - val_mse: 10.5463\n",
      "Epoch 30/40\n",
      "82/82 [==============================] - 4s 45ms/step - loss: 4.5313 - mae: 1.4591 - mse: 4.5313 - val_loss: 10.6299 - val_mae: 2.4439 - val_mse: 10.6299\n",
      "Epoch 31/40\n",
      "82/82 [==============================] - 4s 49ms/step - loss: 4.9945 - mae: 1.5426 - mse: 4.9945 - val_loss: 10.0294 - val_mae: 2.4156 - val_mse: 10.0294\n",
      "Epoch 32/40\n",
      "82/82 [==============================] - 4s 45ms/step - loss: 22.4197 - mae: 3.0936 - mse: 22.4197 - val_loss: 9.6974 - val_mae: 2.4800 - val_mse: 9.6974\n",
      "Epoch 33/40\n",
      "82/82 [==============================] - 4s 48ms/step - loss: 8.6923 - mae: 2.2423 - mse: 8.6923 - val_loss: 7.7288 - val_mae: 2.1530 - val_mse: 7.7288\n",
      "Epoch 34/40\n",
      "82/82 [==============================] - 4s 46ms/step - loss: 5.9245 - mae: 1.7909 - mse: 5.9245 - val_loss: 7.7597 - val_mae: 2.1881 - val_mse: 7.7597\n",
      "Epoch 35/40\n",
      "82/82 [==============================] - 4s 45ms/step - loss: 5.0100 - mae: 1.6063 - mse: 5.0100 - val_loss: 7.8431 - val_mae: 2.1757 - val_mse: 7.8431\n",
      "Epoch 36/40\n",
      "82/82 [==============================] - 4s 44ms/step - loss: 4.5116 - mae: 1.4940 - mse: 4.5116 - val_loss: 8.1910 - val_mae: 2.2038 - val_mse: 8.1910\n",
      "Epoch 37/40\n",
      "82/82 [==============================] - 4s 45ms/step - loss: 4.2302 - mae: 1.4282 - mse: 4.2302 - val_loss: 8.2273 - val_mae: 2.2123 - val_mse: 8.2273\n",
      "Epoch 38/40\n",
      "82/82 [==============================] - 4s 44ms/step - loss: 4.0697 - mae: 1.3886 - mse: 4.0697 - val_loss: 8.2202 - val_mae: 2.2115 - val_mse: 8.2202\n",
      "Epoch 39/40\n",
      "82/82 [==============================] - 4s 47ms/step - loss: 3.9640 - mae: 1.3577 - mse: 3.9640 - val_loss: 8.6526 - val_mae: 2.2695 - val_mse: 8.6526\n",
      "Epoch 40/40\n",
      "82/82 [==============================] - 4s 46ms/step - loss: 3.8749 - mae: 1.3369 - mse: 3.8749 - val_loss: 8.6196 - val_mae: 2.2481 - val_mse: 8.6196\n"
     ]
    },
    {
     "data": {
      "text/plain": [
       "<keras.callbacks.History at 0x2e2c1b2dd90>"
      ]
     },
     "execution_count": 16,
     "metadata": {},
     "output_type": "execute_result"
    }
   ],
   "source": [
    "model.fit(X_train, Y_train, \n",
    "            batch_size = batch_size, \n",
    "            epochs = epochs, \n",
    "            validation_data = (X_val,Y_val),\n",
    "            verbose = 1,  \n",
    "            callbacks=[tensorboard_callback])"
   ]
  },
  {
   "cell_type": "code",
   "execution_count": 17,
   "metadata": {},
   "outputs": [
    {
     "name": "stdout",
     "output_type": "stream",
     "text": [
      "27/27 - 0s - loss: 8.6196 - mae: 2.2481 - mse: 8.6196 - 253ms/epoch - 9ms/step\n",
      "MSE: 2.248075008392334\n",
      "MAE: 8.619566917419434\n"
     ]
    }
   ],
   "source": [
    "test_scores = model.evaluate(X_val, Y_val, verbose=2)\n",
    "print(\"MSE:\", test_scores[1])\n",
    "print(\"MAE:\", test_scores[0])"
   ]
  },
  {
   "cell_type": "code",
   "execution_count": 18,
   "metadata": {},
   "outputs": [
    {
     "name": "stdout",
     "output_type": "stream",
     "text": [
      "27/27 [==============================] - 1s 8ms/step\n"
     ]
    }
   ],
   "source": [
    "pred_y = model.predict(X_val)\n"
   ]
  },
  {
   "cell_type": "code",
   "execution_count": 21,
   "metadata": {},
   "outputs": [
    {
     "data": {
      "text/plain": [
       "[<matplotlib.lines.Line2D at 0x2e33e909820>]"
      ]
     },
     "execution_count": 21,
     "metadata": {},
     "output_type": "execute_result"
    },
    {
     "data": {
      "image/png": "[encoded data removed]",
      "text/plain": [
       "<Figure size 432x288 with 1 Axes>"
      ]
     },
     "metadata": {
      "needs_background": "light"
     },
     "output_type": "display_data"
    }
   ],
   "source": [
    "plt.plot(Y_val[3], c='black')\n",
    "plt.plot(pred_y[3], c='red')"
   ]
  }
 ],
 "metadata": {
  "interpreter": {
   "hash": "a5d909c2ab8ff4483a189f56359c75a5f32be0167443e66ecc1d37753d5a3d1f"
  },
  "kernelspec": {
   "display_name": "Python 3.8.13 ('tf-gpu-cuda')",
   "language": "python",
   "name": "python3"
  },
  "language_info": {
   "codemirror_mode": {
    "name": "ipython",
    "version": 3
   },
   "file_extension": ".py",
   "mimetype": "text/x-python",
   "name": "python",
   "nbconvert_exporter": "python",
   "pygments_lexer": "ipython3",
   "version": "3.8.13"
  },
  "orig_nbformat": 4
 },
 "nbformat": 4,
 "nbformat_minor": 2
}
